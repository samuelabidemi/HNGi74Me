{
 "cells": [
  {
   "cell_type": "code",
   "execution_count": 1,
   "metadata": {},
   "outputs": [],
   "source": [
    "import os\n",
    "import pandas as pd\n"
   ]
  },
  {
   "cell_type": "markdown",
   "metadata": {},
   "source": [
    "# On Question 1"
   ]
  },
  {
   "cell_type": "code",
   "execution_count": 2,
   "metadata": {},
   "outputs": [
    {
     "name": "stdout",
     "output_type": "stream",
     "text": [
      "There are 181 files in the folder\n"
     ]
    }
   ],
   "source": [
    "#Extracts and checks the number of files in the folder\n",
    "file = [files for files in os.listdir() if files.endswith('csv')]\n",
    "print('There are {} files in the folder'.format(len(file)))"
   ]
  },
  {
   "cell_type": "code",
   "execution_count": 3,
   "metadata": {},
   "outputs": [],
   "source": [
    "#Extracts files that starts with covid\n",
    "covid = [covid for covid in file if covid.startswith('cov')]\n",
    "\n",
    "#Extracts files that starts with world\n",
    "world = [world for world in file if world.startswith('world')]"
   ]
  },
  {
   "cell_type": "code",
   "execution_count": 4,
   "metadata": {},
   "outputs": [
    {
     "name": "stdout",
     "output_type": "stream",
     "text": [
      "The number of files in covid is  93 \n",
      "\n",
      "The length of files in world is  88\n"
     ]
    }
   ],
   "source": [
    "#Checks if these are the only two file types or there are others\n",
    "print('The number of files in covid is ', len(covid), '\\n')\n",
    "print('The length of files in world is ', len(world))"
   ]
  },
  {
   "cell_type": "code",
   "execution_count": 5,
   "metadata": {},
   "outputs": [
    {
     "name": "stdout",
     "output_type": "stream",
     "text": [
      "The total number of files in both is  181\n"
     ]
    }
   ],
   "source": [
    "#the sum of files both contain\n",
    "print('The total number of files in both is ', len(covid) + len(world))"
   ]
  },
  {
   "cell_type": "markdown",
   "metadata": {},
   "source": [
    "The last cell shows that there are only two file types, viz: the covid files and the world files. The files are stored as a list. It is needful to check properly the names of the data to verity the dates and other necessary information."
   ]
  },
  {
   "cell_type": "code",
   "execution_count": 6,
   "metadata": {},
   "outputs": [],
   "source": [
    "#function to print the first five files im the list folder(covid or world)\n",
    "def first_five_files(file):\n",
    "    five_file = file[0:5]\n",
    "    print(five_file)\n",
    "        "
   ]
  },
  {
   "cell_type": "code",
   "execution_count": 7,
   "metadata": {},
   "outputs": [
    {
     "name": "stdout",
     "output_type": "stream",
     "text": [
      "['covid_help_data_03-Apr-2020 00-40-28.csv', 'covid_help_data_29-Apr-2020 10-02-29.csv', 'covid_help_data_04-May-2020 23-40-33.csv', 'covid_help_data_05-Apr-2020 00-40-26.csv', 'covid_help_data_24-May-2020 10-02-32.csv']\n",
      "None\n"
     ]
    }
   ],
   "source": [
    "#prints the first five files in the covid list\n",
    "print(first_five_files(covid))"
   ]
  },
  {
   "cell_type": "code",
   "execution_count": 8,
   "metadata": {},
   "outputs": [
    {
     "name": "stdout",
     "output_type": "stream",
     "text": [
      "['worldwide_02-May-2020 23-49-17.csv', 'worldwide_08-Apr-2020 06-49-34.csv', 'worldwide_18-Apr-2020 23-49-16.csv', 'worldwide_04-May-2020 23-49-07.csv', 'worldwide_20-Apr-2020 10-11-09.csv']\n",
      "None\n"
     ]
    }
   ],
   "source": [
    "#prints the first five files in the world list\n",
    "print(first_five_files(world))"
   ]
  },
  {
   "cell_type": "markdown",
   "metadata": {},
   "source": [
    "The data of interest are that ofApril and May, they are here extracted before further work."
   ]
  },
  {
   "cell_type": "code",
   "execution_count": 9,
   "metadata": {},
   "outputs": [],
   "source": [
    "#april  and may datasets in covid folder\n",
    "covid_April = [april for april in covid if 'Apr' in april]\n",
    "covid_May = [may for may in covid if 'May' in may]\n",
    "#april and may datasets in world folder\n",
    "world_april = [april for april in world if 'Apr' in april]\n",
    "world_may = [may for may in world if 'May' in may]"
   ]
  },
  {
   "cell_type": "code",
   "execution_count": 10,
   "metadata": {},
   "outputs": [
    {
     "name": "stdout",
     "output_type": "stream",
     "text": [
      "['covid_help_data_03-Apr-2020 00-40-28.csv', 'covid_help_data_29-Apr-2020 10-02-29.csv', 'covid_help_data_05-Apr-2020 00-40-26.csv', 'covid_help_data_10-Apr-2020 13-38-26.csv', 'covid_help_data_16-Apr-2020 23-40-31.csv'] \n",
      " ['covid_help_data_04-May-2020 23-40-33.csv', 'covid_help_data_24-May-2020 10-02-32.csv', 'covid_help_data_01-May-2020 10-02-27.csv', 'covid_help_data_17-May-2020 23-40-33.csv', 'covid_help_data_07-May-2020 10-02-25.csv'] \n",
      " ['worldwide_08-Apr-2020 06-49-34.csv', 'worldwide_18-Apr-2020 23-49-16.csv', 'worldwide_20-Apr-2020 10-11-09.csv', 'worldwide_21-Apr-2020 23-49-01.csv', 'worldwide_16-Apr-2020 23-49-31.csv'] \n",
      " ['worldwide_02-May-2020 23-49-17.csv', 'worldwide_04-May-2020 23-49-07.csv', 'worldwide_01-May-2020 23-49-16.csv', 'worldwide_14-May-2020 23-49-05.csv', 'worldwide_18-May-2020 10-11-35.csv']\n"
     ]
    }
   ],
   "source": [
    "#check first five element in the lists for verificaton\n",
    "print(covid_April[0:5],'\\n', covid_May[0:5], '\\n', world_april[0:5], '\\n', world_may[0:5])"
   ]
  },
  {
   "cell_type": "markdown",
   "metadata": {},
   "source": [
    "Since the files are now arranged suitably, the question 1 is therefore attempted. First, the data provided at 11pm+ are separated from covid data set and world datasets."
   ]
  },
  {
   "cell_type": "code",
   "execution_count": 11,
   "metadata": {},
   "outputs": [],
   "source": [
    "#the covid data set provided at 11pm+ and the other times in May and April\n",
    "#May Covid \n",
    "covid_May11_plus = [files for files in covid_May if '23' in files.split()[-1]]\n",
    "covid_May_other =  [files for files in covid_May if '23' not in files.split()[-1]]\n",
    "#April Covid\n",
    "covid_april11_plus = [files for files in covid_April if '23' in files.split()[-1]]\n",
    "covid_april_other = [files for files in covid_April if '23' not in files.split()[-1]]\n",
    "\n",
    "#world data sets\n",
    "#m May\n",
    "world_May11_plus = [files for files in world_may if '23' in files.split()[-1]]\n",
    "world_May_other =  [files for files in world_may if '23' not in files.split()[-1]]\n",
    "#April Covid\n",
    "world_april11_plus = [files for files in world_april if '23' in files.split()[-1]]\n",
    "world_april_other = [files for files in world_april if '23' not in files.split()[-1]]\n"
   ]
  },
  {
   "cell_type": "code",
   "execution_count": 18,
   "metadata": {},
   "outputs": [
    {
     "name": "stdout",
     "output_type": "stream",
     "text": [
      "Enter the countryGermany\n",
      "[137698, 91159, 145184, 118235, 107663, 148291, 150648, 141397, 134753, 143342, 130072, 96092, 147065, 161197, 138135, 132210, 163009, 159735, 113296, 143724]\n",
      "The lowest of the cumulative is  91159\n",
      "The maximum of the cumulative result for Germany is  163009\n",
      "None\n"
     ]
    }
   ],
   "source": [
    "def stat_info(name):\n",
    "    infected = []\n",
    "    country = str(input('Enter the country'))\n",
    "    for x in range(len(name)):\n",
    "        df = pd.read_csv(name[x], index_col=0)\n",
    "        df.index.name = None\n",
    "        infected.append(df.loc[country, 'infected'])\n",
    "    print(infected)\n",
    "    print('The lowest of the cumulative is ',min(infected) )\n",
    "    print('The maximum of the cumulative result for {} is '.format(country), max(infected))\n",
    "    print('')\n",
    "print(stat_info(covid_april11_plus))"
   ]
  },
  {
   "cell_type": "code",
   "execution_count": 15,
   "metadata": {},
   "outputs": [
    {
     "ename": "NameError",
     "evalue": "name 'daily_cases_US' is not defined",
     "output_type": "error",
     "traceback": [
      "\u001b[0;31m---------------------------------------------------------------------------\u001b[0m",
      "\u001b[0;31mNameError\u001b[0m                                 Traceback (most recent call last)",
      "\u001b[0;32m<ipython-input-15-b5838009951e>\u001b[0m in \u001b[0;36m<module>\u001b[0;34m\u001b[0m\n\u001b[1;32m      3\u001b[0m     \u001b[0mdf\u001b[0m \u001b[0;34m=\u001b[0m \u001b[0mpd\u001b[0m\u001b[0;34m.\u001b[0m\u001b[0mread_csv\u001b[0m\u001b[0;34m(\u001b[0m\u001b[0mcovid_May11_plus\u001b[0m\u001b[0;34m[\u001b[0m\u001b[0mx\u001b[0m\u001b[0;34m]\u001b[0m\u001b[0;34m,\u001b[0m \u001b[0mindex_col\u001b[0m\u001b[0;34m=\u001b[0m\u001b[0;36m0\u001b[0m\u001b[0;34m)\u001b[0m\u001b[0;34m\u001b[0m\u001b[0;34m\u001b[0m\u001b[0m\n\u001b[1;32m      4\u001b[0m     \u001b[0mdf\u001b[0m\u001b[0;34m.\u001b[0m\u001b[0mindex\u001b[0m\u001b[0;34m.\u001b[0m\u001b[0mname\u001b[0m \u001b[0;34m=\u001b[0m \u001b[0;32mNone\u001b[0m\u001b[0;34m\u001b[0m\u001b[0;34m\u001b[0m\u001b[0m\n\u001b[0;32m----> 5\u001b[0;31m     \u001b[0mdaily_cases_US\u001b[0m\u001b[0;34m.\u001b[0m\u001b[0mappend\u001b[0m\u001b[0;34m(\u001b[0m\u001b[0mdf\u001b[0m\u001b[0;34m.\u001b[0m\u001b[0mloc\u001b[0m\u001b[0;34m[\u001b[0m\u001b[0;34m'Germany'\u001b[0m\u001b[0;34m,\u001b[0m \u001b[0;34m'infected'\u001b[0m\u001b[0;34m]\u001b[0m\u001b[0;34m)\u001b[0m\u001b[0;34m\u001b[0m\u001b[0;34m\u001b[0m\u001b[0m\n\u001b[0m\u001b[1;32m      6\u001b[0m \u001b[0;34m\u001b[0m\u001b[0m\n\u001b[1;32m      7\u001b[0m \u001b[0;34m\u001b[0m\u001b[0m\n",
      "\u001b[0;31mNameError\u001b[0m: name 'daily_cases_US' is not defined"
     ]
    }
   ],
   "source": [
    "\n",
    "daily_cases = []\n",
    "for x in range(len(covid_May11_plus)):\n",
    "    df = pd.read_csv(covid_May11_plus[x], index_col=0)\n",
    "    df.index.name = None\n",
    "    daily_cases_US.append(df.loc['Germany', 'infected'])\n",
    "    \n",
    "\n",
    "print(daily_case)\n",
    "min_infection = min(daily_cases)\n",
    "max_infection = max(daily_cases)\n",
    "print(min_infection)\n",
    "print(max_infection)\n",
    "print(max_infection-min_infection)"
   ]
  },
  {
   "cell_type": "code",
   "execution_count": null,
   "metadata": {},
   "outputs": [],
   "source": []
  },
  {
   "cell_type": "code",
   "execution_count": null,
   "metadata": {},
   "outputs": [],
   "source": []
  }
 ],
 "metadata": {
  "kernelspec": {
   "display_name": "Python 3.7.4 64-bit ('base': conda)",
   "language": "python",
   "name": "python37464bitbaseconda9c8b5d1f04b443fcb096edaaa715164f"
  },
  "language_info": {
   "codemirror_mode": {
    "name": "ipython",
    "version": 3
   },
   "file_extension": ".py",
   "mimetype": "text/x-python",
   "name": "python",
   "nbconvert_exporter": "python",
   "pygments_lexer": "ipython3",
   "version": "3.7.4"
  }
 },
 "nbformat": 4,
 "nbformat_minor": 2
}
